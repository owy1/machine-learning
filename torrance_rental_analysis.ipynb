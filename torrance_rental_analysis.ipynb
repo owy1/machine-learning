{
 "cells": [
  {
   "cell_type": "markdown",
   "metadata": {},
   "source": [
    "Title: Torrance Rental Market Analysis\n",
    "\n",
    "Our family has a condo in Torrance CA that is currently being managed by a rental agency.  \n",
    "In order to be an active participant in property management, I have started collecting rental data from various sources (Zillow, HotPads, Trulia) and start my own analysis.\n",
    "The csv file contains rental listings of 3 bedrooms 2.5 bath approximate 2000 sq ft condo in 90501, 90503 and 90505 areas from January through July 2017. There are 51 datapoints. \n",
    "\n",
    "We'll analyze the dataset with pandas, numpy and matplotlib"
   ]
  },
  {
   "cell_type": "code",
   "execution_count": 161,
   "metadata": {},
   "outputs": [
    {
     "name": "stdout",
     "output_type": "stream",
     "text": [
      "   month_listed  rental_$  zip_code  days_on_market       street_address  \\\n",
      "0             1      3200     90501              60      2840 Border Ave   \n",
      "1             1      3300     90503              63   2300 Maple Ave #44   \n",
      "2             3      3300     90503               7  2300 Maple Ave #136   \n",
      "3             3      3600     90501              15     1800 Oak St #110   \n",
      "4             3      3500     90501              15     1800 Oak St #619   \n",
      "\n",
      "  reduce_price  \n",
      "0            N  \n",
      "1            Y  \n",
      "2            N  \n",
      "3            N  \n",
      "4            N  \n"
     ]
    }
   ],
   "source": [
    "import numpy as np\n",
    "import pandas as pd\n",
    "import matplotlib.pyplot as plt\n",
    "import csv\n",
    "\n",
    "dataset = pd.read_csv('/Users/owy1/codefellows/401/machine-learning/torrance_rental_analysis.csv', encoding = \"ISO-8859-1\")\n",
    "print(dataset[:5]) #print first 5 rows of data to verify import\""
   ]
  },
  {
   "cell_type": "code",
   "execution_count": 162,
   "metadata": {},
   "outputs": [
    {
     "data": {
      "image/png": "[encoded data removed]",
      "text/plain": [
       "<matplotlib.figure.Figure at 0x1118eb358>"
      ]
     },
     "metadata": {},
     "output_type": "display_data"
    }
   ],
   "source": [
    "dataset['range'] = pd.cut(dataset['rental_$'], bins=[2500, 3000, 3200, 3400, 3600], labels = ['3000', '3200', '3400', '3600'])\n",
    "dataset['range'] = dataset['range'].astype('int')\n",
    "\n",
    "dataset.plot(kind='scatter', x='month_listed', y='range', s=dataset.days_on_market)\n",
    "plt.title(\"Plot1: Rent $ per Month\", weight='bold')\n",
    "plt.xlabel(\"month_listed\", weight='bold')\n",
    "plt.ylabel(\"rent range\", weight='bold')\n",
    "\n",
    "plt.show()"
   ]
  },
  {
   "cell_type": "markdown",
   "metadata": {
    "collapsed": true
   },
   "source": [
    "It shows that condos priced between $3000 to $3200 rent out quickly from May to July. This is a quick and simple view of our neighborhood rental trend.   Other factors to be considered are foreclosures, short sales, active inventories, industry trends, etc. "
   ]
  }
 ],
 "metadata": {
  "kernelspec": {
   "display_name": "Python 3",
   "language": "python",
   "name": "python3"
  },
  "language_info": {
   "codemirror_mode": {
    "name": "ipython",
    "version": 3
   },
   "file_extension": ".py",
   "mimetype": "text/x-python",
   "name": "python",
   "nbconvert_exporter": "python",
   "pygments_lexer": "ipython3",
   "version": "3.6.1"
  }
 },
 "nbformat": 4,
 "nbformat_minor": 2
}
