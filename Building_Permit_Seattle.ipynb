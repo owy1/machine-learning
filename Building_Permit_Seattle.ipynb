{
 "cells": [
  {
   "cell_type": "markdown",
   "metadata": {},
   "source": [
    "Title: Building Permit Seattle\n",
    "Sources: https://dev.socrata.com/foundry/data.seattle.gov/i5jq-ms7b\n",
    "\n",
    "Dataset is provided by Seattle Department of Construction and Inspections.  \n",
    "It lists building permits issued in the past five years or currently in progress.\n",
    "The dataset has 55.7K rows and 20 columns.  The column descriptions are in README.\n",
    "\n",
    "We'll analyze the Building Permit Data with pandas, numpy and matplotlib\n"
   ]
  },
  {
   "cell_type": "code",
   "execution_count": 1,
   "metadata": {},
   "outputs": [
    {
     "name": "stdout",
     "output_type": "stream",
     "text": [
      "   Application/Permit Number       Permit Type              Address  \\\n",
      "0                    6578806      Construction        706 N 77TH ST   \n",
      "1                    6409682  Site Development  388R LAKESIDE AVE S   \n",
      "2                    6529715      Construction    9820 TRITON DR NW   \n",
      "3                    6578702      Construction  12044 FREMONT AVE N   \n",
      "4                    6564726      Construction      5602 39TH AVE W   \n",
      "\n",
      "                                         Description                Category  \\\n",
      "0  Construct interior alterations on main floor o...  SINGLE FAMILY / DUPLEX   \n",
      "1  Shoreline Exemption to allow soil boring in st...                     NaN   \n",
      "2  Removal of non-permitted roof-top (3rd floor) ...  SINGLE FAMILY / DUPLEX   \n",
      "3  Construct interior alterations to an existing ...  SINGLE FAMILY / DUPLEX   \n",
      "4  Exterior maintenance only, siding, windows, ro...  SINGLE FAMILY / DUPLEX   \n",
      "\n",
      "                Action Type       Work Type         Value     Applicant Name  \\\n",
      "0                   ADD/ALT  No plan review   $50,000.00    DEHERRERA, LUCAS   \n",
      "1  SHORELINE EXEMPTION ONLY     Plan Review        $0.00       ANTIEAU, CLAY   \n",
      "2                   ADD/ALT     Plan Review   $42,000.00   PETRISOR, CORNELL   \n",
      "3                   ADD/ALT  No plan review    $9,500.00        WACHTER, KEN   \n",
      "4                   ADD/ALT  No plan review  $280,000.00        TUCKER, JUDY   \n",
      "\n",
      "  Application Date Issue Date Final Date Expiration Date         Status  \\\n",
      "0          1/30/17    1/30/17        NaN         7/30/18  Permit Issued   \n",
      "1          1/30/17        NaN    1/30/17             NaN      AP Closed   \n",
      "2          6/13/16    5/19/17    6/28/17        11/19/18  Permit Closed   \n",
      "3          1/30/17    1/30/17        NaN         7/30/18  Permit Issued   \n",
      "4          1/30/17    1/30/17        NaN         7/30/18  Permit Issued   \n",
      "\n",
      "                      Contractor  \\\n",
      "0                            NaN   \n",
      "1  CITY OF SEA SPU DRAIN & WASTE   \n",
      "2                            NaN   \n",
      "3                            NaN   \n",
      "4                            NaN   \n",
      "\n",
      "                     Permit and Complaint Status URL  Master Use Permit  \\\n",
      "0  http://web6.seattle.gov/dpd/PermitStatus/Proje...                NaN   \n",
      "1  http://web6.seattle.gov/dpd/PermitStatus/Proje...                NaN   \n",
      "2  http://web6.seattle.gov/dpd/PermitStatus/Proje...                NaN   \n",
      "3  http://web6.seattle.gov/dpd/PermitStatus/Proje...                NaN   \n",
      "4  http://web6.seattle.gov/dpd/PermitStatus/Proje...                NaN   \n",
      "\n",
      "    Latitude   Longitude                                           Location  \n",
      "0  47.684927 -122.349437        706 N 77TH ST\\r(47.68492709, -122.34943726)  \n",
      "1  47.599168 -122.286521  388R LAKESIDE AVE S\\r(47.59916842, -122.28652139)  \n",
      "2  47.700541 -122.391283    9820 TRITON DR NW\\r(47.70054059, -122.39128301)  \n",
      "3  47.717289 -122.350021  12044 FREMONT AVE N\\r(47.71728867, -122.35002144)  \n",
      "4  47.669701 -122.408278      5602 39TH AVE W\\r(47.66970142, -122.40827755)  \n"
     ]
    }
   ],
   "source": [
    "import numpy as np\n",
    "import pandas as pd\n",
    "import matplotlib.pyplot as plt\n",
    "import csv\n",
    "\n",
    "dataset = pd.read_csv('/Users/owy1/codefellows/401/machine-learning/Building_Permits_Current.csv', encoding = \"ISO-8859-1\")\n",
    "print(dataset[:5]) #print first 5 rows of data to verify import\""
   ]
  },
  {
   "cell_type": "code",
   "execution_count": 2,
   "metadata": {},
   "outputs": [
    {
     "data": {
      "image/png": "[encoded data removed]",
      "text/plain": [
       "<matplotlib.figure.Figure at 0x107115ef0>"
      ]
     },
     "metadata": {},
     "output_type": "display_data"
    }
   ],
   "source": [
    "dataset[\"Permit Type\"].value_counts().plot(kind='bar', rot=0)\n",
    "\n",
    "plt.title(\"Plot1: Number of Permits by Permit Type\", weight='bold')\n",
    "\n",
    "plt.xlabel(\"Permit Type\", weight='bold')\n",
    "\n",
    "plt.ylabel(\"Count\", weight='bold')\n",
    "\n",
    "plt.show()"
   ]
  },
  {
   "cell_type": "markdown",
   "metadata": {},
   "source": [
    "So now we know most permits go to construction type, let's find out some statistics: average, maximum and minimum values of each type of permit"
   ]
  },
  {
   "cell_type": "code",
   "execution_count": 3,
   "metadata": {},
   "outputs": [
    {
     "name": "stdout",
     "output_type": "stream",
     "text": [
      "                     Table 1                      \n",
      "                  Average     Maximum  Minimum\n",
      "Construction      2025.11  99815800.0      0.0\n",
      "Demolition        2200.54   9823200.0      0.0\n",
      "Site Development  4797.98   9500000.0      0.0\n"
     ]
    }
   ],
   "source": [
    "columns = ['Average', 'Maximum', 'Minimum']\n",
    "permit_type = ['Construction', 'Demolition', 'Site Development']\n",
    "df_temp = pd.DataFrame(index=permit_type, columns=columns)\n",
    "df_temp = df_temp.fillna(0)\n",
    "\n",
    "subdata = dataset[['Permit Type', 'Value','Category']]\n",
    "# print(subdata[:3])\n",
    "data_construct = subdata[subdata['Permit Type'] == 'Construction']\n",
    "data_demolt = subdata[subdata['Permit Type'] == 'Demolition']\n",
    "data_deve = subdata[subdata['Permit Type'] == 'Site Development']\n",
    "\n",
    "construct_max = max(data_construct[\"Value\"])\n",
    "construct_min = min(data_construct[\"Value\"])\n",
    "construct_max = int(''.join(c for c in construct_max if c.isdigit()))\n",
    "construct_min = int(''.join(c for c in construct_min if c.isdigit()))\n",
    "construct_avg = np.around(((construct_max - construct_min) / len(data_construct)),2)\n",
    "\n",
    "demolt_max = max(data_demolt[\"Value\"])\n",
    "demolt_min = min(data_demolt[\"Value\"])\n",
    "demolt_max = int(''.join(c for c in demolt_max if c.isdigit()))\n",
    "demolt_min = int(''.join(c for c in demolt_min if c.isdigit()))\n",
    "demolt_avg = np.around(((demolt_max - demolt_min) / len(data_demolt)),2)\n",
    "\n",
    "deve_max = max(data_deve[\"Value\"])\n",
    "deve_min = min(data_deve[\"Value\"])\n",
    "deve_max = int(''.join(c for c in deve_max if c.isdigit()))\n",
    "deve_min = int(''.join(c for c in deve_min if c.isdigit()))\n",
    "deve_avg = np.around(((deve_max - deve_min) / len(data_deve)),2)\n",
    "\n",
    "\n",
    "df_temp.loc[\"Construction\"] = pd.Series({\"Average\":construct_avg,\"Maximum\":construct_max, \"Minimum\":construct_min  })\n",
    "df_temp.loc[\"Demolition\"] = pd.Series({\"Average\":demolt_avg,\"Maximum\":demolt_max, \"Minimum\":demolt_min  })\n",
    "df_temp.loc[\"Site Development\"] = pd.Series({\"Average\":deve_avg,\"Maximum\":deve_max, \"Minimum\":deve_min  })\n",
    "print('{:^50}'.format('Table 1'))\n",
    "print(df_temp)\n"
   ]
  },
  {
   "cell_type": "markdown",
   "metadata": {},
   "source": [
    "Interestingly, although the maximum of construction bid would run to $100 million, the average is around $2000, around the same as demolition but less than site development.  Let's see what they are building."
   ]
  },
  {
   "cell_type": "code",
   "execution_count": 4,
   "metadata": {},
   "outputs": [
    {
     "name": "stdout",
     "output_type": "stream",
     "text": [
      "['SINGLE FAMILY / DUPLEX' 'COMMERCIAL' 'MULTIFAMILY' 'INDUSTRIAL'\n",
      " 'INSTITUTIONAL' nan]\n"
     ]
    }
   ],
   "source": [
    "print(data_construct.Category.unique())"
   ]
  },
  {
   "cell_type": "code",
   "execution_count": 5,
   "metadata": {},
   "outputs": [
    {
     "ename": "SyntaxError",
     "evalue": "EOL while scanning string literal (<ipython-input-5-3936fa3e621a>, line 1)",
     "output_type": "error",
     "traceback": [
      "\u001b[0;36m  File \u001b[0;32m\"<ipython-input-5-3936fa3e621a>\"\u001b[0;36m, line \u001b[0;32m1\u001b[0m\n\u001b[0;31m    We'll plot a bar charts of construction categories.\u001b[0m\n\u001b[0m                                                       ^\u001b[0m\n\u001b[0;31mSyntaxError\u001b[0m\u001b[0;31m:\u001b[0m EOL while scanning string literal\n"
     ]
    }
   ],
   "source": [
    "We'll plot a bar charts of construction categories."
   ]
  },
  {
   "cell_type": "code",
   "execution_count": null,
   "metadata": {},
   "outputs": [],
   "source": [
    "\n",
    "dataset[\"Category\"].value_counts().plot(kind='bar')\n",
    "\n",
    "plt.title(\"Plot2: Number of Permits by Construction Category\", weight='bold')\n",
    "\n",
    "plt.xlabel(\"Construction Category\", weight='bold')\n",
    "\n",
    "plt.ylabel(\"Count\", weight='bold')\n",
    "\n",
    "plt.show()"
   ]
  },
  {
   "cell_type": "code",
   "execution_count": null,
   "metadata": {
    "collapsed": true
   },
   "outputs": [],
   "source": [
    "There are almost 30000 single family homes built in Seattle the past five years."
   ]
  }
 ],
 "metadata": {
  "kernelspec": {
   "display_name": "Python 3",
   "language": "python",
   "name": "python3"
  },
  "language_info": {
   "codemirror_mode": {
    "name": "ipython",
    "version": 3
   },
   "file_extension": ".py",
   "mimetype": "text/x-python",
   "name": "python",
   "nbconvert_exporter": "python",
   "pygments_lexer": "ipython3",
   "version": "3.6.1"
  }
 },
 "nbformat": 4,
 "nbformat_minor": 2
}
